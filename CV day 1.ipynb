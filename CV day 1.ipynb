{
 "cells": [
  {
   "cell_type": "code",
   "execution_count": 1,
   "id": "da5981d6",
   "metadata": {},
   "outputs": [],
   "source": [
    "import cv2 #is the module of Open CV-python "
   ]
  },
  {
   "cell_type": "code",
   "execution_count": 2,
   "id": "348eaf49",
   "metadata": {},
   "outputs": [
    {
     "data": {
      "text/plain": [
       "<VideoCapture 0000019B2D628270>"
      ]
     },
     "execution_count": 2,
     "metadata": {},
     "output_type": "execute_result"
    }
   ],
   "source": [
    "#0 is used to connect to internal webcam\n",
    "#Final output we get is internal adress of our webcam\n",
    "cv2.VideoCapture(0) "
   ]
  },
  {
   "cell_type": "code",
   "execution_count": 3,
   "id": "d345a27f",
   "metadata": {},
   "outputs": [],
   "source": [
    "cam = cv2.VideoCapture(0) #result is stored in a variable tor further process"
   ]
  },
  {
   "cell_type": "code",
   "execution_count": 4,
   "id": "d0c71227",
   "metadata": {},
   "outputs": [],
   "source": [
    "#read function is used capturing photo\n",
    "#read function return 2 output to capture both the outputs we use 2 different variable \n",
    "x, photo = cam.read()"
   ]
  },
  {
   "cell_type": "code",
   "execution_count": 5,
   "id": "d21239dc",
   "metadata": {},
   "outputs": [
    {
     "data": {
      "text/plain": [
       "True"
      ]
     },
     "execution_count": 5,
     "metadata": {},
     "output_type": "execute_result"
    }
   ],
   "source": [
    "#if our output return true then our photo is successfully clicked.\n",
    "x"
   ]
  },
  {
   "cell_type": "code",
   "execution_count": 7,
   "id": "0b07d916",
   "metadata": {},
   "outputs": [
    {
     "data": {
      "text/plain": [
       "True"
      ]
     },
     "execution_count": 7,
     "metadata": {},
     "output_type": "execute_result"
    }
   ],
   "source": [
    "#to save the file in folder\n",
    "cv2.imwrite(\"test.jpg\", photo)"
   ]
  },
  {
   "cell_type": "code",
   "execution_count": 8,
   "id": "1a3dcffa",
   "metadata": {},
   "outputs": [],
   "source": [
    "#used for closing our cam after its been used\n",
    "cam.release()"
   ]
  },
  {
   "cell_type": "code",
   "execution_count": 11,
   "id": "01c237a5",
   "metadata": {},
   "outputs": [],
   "source": [
    "#to open and view our captured pic we use imshow\n",
    "#We need to mention how much time pic should be open using waitkey function or else our entire program will crash.\n",
    "cv2.imshow(\"Sample\", photo)\n",
    "cv2.waitKey()\n",
    "cv2.destroyAllWindows()"
   ]
  },
  {
   "cell_type": "markdown",
   "id": "102939e2",
   "metadata": {},
   "source": [
    "# DAY 2"
   ]
  },
  {
   "cell_type": "code",
   "execution_count": 12,
   "id": "ef354397",
   "metadata": {},
   "outputs": [],
   "source": [
    "import numpy"
   ]
  },
  {
   "cell_type": "code",
   "execution_count": 14,
   "id": "879a45a9",
   "metadata": {},
   "outputs": [
    {
     "data": {
      "text/plain": [
       "(480, 640, 3)"
      ]
     },
     "execution_count": 14,
     "metadata": {},
     "output_type": "execute_result"
    }
   ],
   "source": [
    "photo.shape"
   ]
  },
  {
   "cell_type": "code",
   "execution_count": 15,
   "id": "70625d2f",
   "metadata": {},
   "outputs": [
    {
     "data": {
      "text/plain": [
       "array([[[ 98,  64,  95],\n",
       "        [ 90,  64,  88],\n",
       "        [ 82,  70,  83],\n",
       "        ...,\n",
       "        [205, 190, 201],\n",
       "        [207, 185, 200],\n",
       "        [205, 179, 196]],\n",
       "\n",
       "       [[ 87,  67,  94],\n",
       "        [ 82,  67,  89],\n",
       "        [ 81,  75,  87],\n",
       "        ...,\n",
       "        [197, 182, 194],\n",
       "        [204, 183, 198],\n",
       "        [211, 186, 203]],\n",
       "\n",
       "       [[ 70,  70,  90],\n",
       "        [ 72,  73,  90],\n",
       "        [ 76,  80,  89],\n",
       "        ...,\n",
       "        [189, 175, 187],\n",
       "        [195, 175, 191],\n",
       "        [201, 177, 196]],\n",
       "\n",
       "       ...,\n",
       "\n",
       "       [[143, 113,  95],\n",
       "        [140, 113,  90],\n",
       "        [141, 119,  88],\n",
       "        ...,\n",
       "        [ 61,  35,  85],\n",
       "        [ 61,  38,  89],\n",
       "        [ 57,  37,  87]],\n",
       "\n",
       "       [[141,  99, 103],\n",
       "        [137,  98, 100],\n",
       "        [137, 104, 102],\n",
       "        ...,\n",
       "        [ 54,  22,  70],\n",
       "        [ 62,  27,  75],\n",
       "        [ 51,  14,  63]],\n",
       "\n",
       "       [[141,  91, 109],\n",
       "        [134,  88, 104],\n",
       "        [132,  92, 107],\n",
       "        ...,\n",
       "        [ 47,  12,  59],\n",
       "        [ 68,  25,  71],\n",
       "        [ 68,  22,  68]]], dtype=uint8)"
      ]
     },
     "execution_count": 15,
     "metadata": {},
     "output_type": "execute_result"
    }
   ],
   "source": [
    "#photo is technically a 3d array \n",
    "#because shape of phote is having 3Dimension\n",
    "photo"
   ]
  },
  {
   "cell_type": "code",
   "execution_count": null,
   "id": "85979483",
   "metadata": {},
   "outputs": [],
   "source": []
  }
 ],
 "metadata": {
  "kernelspec": {
   "display_name": "Python 3",
   "language": "python",
   "name": "python3"
  },
  "language_info": {
   "codemirror_mode": {
    "name": "ipython",
    "version": 3
   },
   "file_extension": ".py",
   "mimetype": "text/x-python",
   "name": "python",
   "nbconvert_exporter": "python",
   "pygments_lexer": "ipython3",
   "version": "3.8.8"
  }
 },
 "nbformat": 4,
 "nbformat_minor": 5
}
