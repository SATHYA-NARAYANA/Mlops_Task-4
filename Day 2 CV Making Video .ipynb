{
 "cells": [
  {
   "cell_type": "code",
   "execution_count": 1,
   "id": "4cdd6ea3",
   "metadata": {},
   "outputs": [],
   "source": [
    "import cv2"
   ]
  },
  {
   "cell_type": "code",
   "execution_count": 2,
   "id": "e88016ad",
   "metadata": {},
   "outputs": [],
   "source": [
    "cap = cv2.VideoCapture(0)"
   ]
  },
  {
   "cell_type": "code",
   "execution_count": null,
   "id": "ad730970",
   "metadata": {},
   "outputs": [],
   "source": [
    "ret , photo = cap.read()"
   ]
  },
  {
   "cell_type": "code",
   "execution_count": null,
   "id": "cc64b90d",
   "metadata": {},
   "outputs": [],
   "source": [
    "cv2.imshow('sathya', photo)\n",
    "cv2.waitKey()\n",
    "cv2.destroyAllWindows()"
   ]
  },
  {
   "cell_type": "code",
   "execution_count": null,
   "id": "0464a51b",
   "metadata": {},
   "outputs": [],
   "source": [
    "#video is nothing but capturing again and again \n",
    "while True:\n",
    "    ret , photo = cap.read()\n",
    "    cv2.imshow('sathya', photo)\n",
    "    if cv2.waitKey(10) == 13: #13 waitkey for enterkey\n",
    "        break\n",
    "        \n",
    "cv2.destroyAllWindows()"
   ]
  },
  {
   "cell_type": "code",
   "execution_count": 3,
   "id": "9419bb1b",
   "metadata": {},
   "outputs": [],
   "source": [
    "#video is nothing but capturing again and again \n",
    "while True:\n",
    "    ret , photo = cap.read()\n",
    "    cropphoto = photo[100:300,50:300]\n",
    "    cv2.imshow('sathya', cropphoto)\n",
    "    if cv2.waitKey(10) == 13: #13 waitkey for enterkey\n",
    "        break\n",
    "        \n",
    "cv2.destroyAllWindows()"
   ]
  },
  {
   "cell_type": "code",
   "execution_count": 6,
   "id": "8ec764c8",
   "metadata": {},
   "outputs": [],
   "source": [
    "#video is nothing but capturing again and again \n",
    "while True:\n",
    "    ret, photo = cap.read()\n",
    "    cphoto = cv2.cvtColor(photo, cv2.COLOR_BGR2GRAY)\n",
    "    cv2.imshow('sathya', cphoto)\n",
    "    if cv2.waitKey(10) == 13: #13 waitkey for enterkey\n",
    "        break\n",
    "        \n",
    "cv2.destroyAllWindows()"
   ]
  },
  {
   "cell_type": "code",
   "execution_count": 7,
   "id": "10db1d77",
   "metadata": {},
   "outputs": [],
   "source": [
    "#close camera i.e while loop image\n",
    "cap.release()"
   ]
  },
  {
   "cell_type": "code",
   "execution_count": null,
   "id": "5530f0f2",
   "metadata": {},
   "outputs": [],
   "source": []
  }
 ],
 "metadata": {
  "kernelspec": {
   "display_name": "Python 3",
   "language": "python",
   "name": "python3"
  },
  "language_info": {
   "codemirror_mode": {
    "name": "ipython",
    "version": 3
   },
   "file_extension": ".py",
   "mimetype": "text/x-python",
   "name": "python",
   "nbconvert_exporter": "python",
   "pygments_lexer": "ipython3",
   "version": "3.8.8"
  }
 },
 "nbformat": 4,
 "nbformat_minor": 5
}
