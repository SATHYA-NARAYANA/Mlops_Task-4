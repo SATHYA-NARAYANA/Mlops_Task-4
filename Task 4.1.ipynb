{
 "cells": [
  {
   "cell_type": "markdown",
   "id": "a2d1de68",
   "metadata": {},
   "source": [
    "# Task 4 .1 Create our own image "
   ]
  },
  {
   "cell_type": "code",
   "execution_count": 1,
   "id": "30aa19b2",
   "metadata": {},
   "outputs": [],
   "source": [
    "#cv2is the module of Open CV-python\n",
    "import cv2 \n",
    "#numpy is the python library used to perform mathematical operations on \n",
    "import numpy as np "
   ]
  },
  {
   "cell_type": "code",
   "execution_count": 2,
   "id": "00041cc6",
   "metadata": {},
   "outputs": [],
   "source": [
    "#creating an image with lines\n",
    "image = np.zeros((450,450,3))"
   ]
  },
  {
   "cell_type": "code",
   "execution_count": 3,
   "id": "d7e86935",
   "metadata": {},
   "outputs": [],
   "source": [
    "cv2.line(image,(500,0),(0,500),(222,100,0),3)\n",
    "cv2.line(image,(0,0),(500,500),(123,231,0),3)  \n",
    "cv2.line(image,(250,0),(250,500),(200,97,76),3)\n",
    "cv2.line(image,(0,250),(500,250),(50,250,80),3)\n",
    "#to open and view our pic we use imshow\n",
    "cv2.imshow('I Lines',image)\n",
    "#We need to mention how much time pic should be open using waitkey function or else our entire program will crash.\n",
    "cv2.waitKey()\n",
    "cv2.destroyAllWindows()"
   ]
  },
  {
   "cell_type": "code",
   "execution_count": 4,
   "id": "13f2c426",
   "metadata": {},
   "outputs": [],
   "source": [
    "#creating an image with Lerrers and numbers\n",
    "image2 = np.zeros((450,450,3))\n",
    "font = cv2.FONT_HERSHEY_TRIPLEX\n",
    "cv2.putText(image2, 'Happy to know today', (70, 200), font, 1, (0, 255, 0), 2, cv2.LINE_8, 0)\n",
    "cv2.putText(image2,'Date: 2021 JUNE 9 ',(120,250),font, 1, (0, 0, 175))\n",
    "cv2.imshow('Words',image2)\n",
    "cv2.waitKey()\n",
    "cv2.destroyAllWindows()"
   ]
  },
  {
   "cell_type": "markdown",
   "id": "6ce666e9",
   "metadata": {},
   "source": [
    "# Thank you"
   ]
  }
 ],
 "metadata": {
  "kernelspec": {
   "display_name": "Python 3",
   "language": "python",
   "name": "python3"
  },
  "language_info": {
   "codemirror_mode": {
    "name": "ipython",
    "version": 3
   },
   "file_extension": ".py",
   "mimetype": "text/x-python",
   "name": "python",
   "nbconvert_exporter": "python",
   "pygments_lexer": "ipython3",
   "version": "3.8.8"
  }
 },
 "nbformat": 4,
 "nbformat_minor": 5
}
