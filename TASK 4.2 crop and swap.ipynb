{
 "cells": [
  {
   "cell_type": "markdown",
   "id": "bce93589",
   "metadata": {},
   "source": [
    "# Task 4.2 Image Crop And Swap using cv2"
   ]
  },
  {
   "cell_type": "code",
   "execution_count": 1,
   "id": "1451c6dd",
   "metadata": {},
   "outputs": [],
   "source": [
    "import numpy as np\n",
    "import cv2"
   ]
  },
  {
   "cell_type": "code",
   "execution_count": 2,
   "id": "eafbedde",
   "metadata": {},
   "outputs": [],
   "source": [
    "# Show the 1st image \n",
    "pic1 = cv2.imread(\"ice.jpg\")\n",
    "pic2 = cv2.imread(\"ice2.jpg\")\n",
    "cv2.imshow(\"ice\",pic2)\n",
    "cv2.imshow(\"cream\",pic1) \n",
    "cv2.waitKey()\n",
    "cv2.destroyAllWindows()"
   ]
  },
  {
   "cell_type": "code",
   "execution_count": 3,
   "id": "542c3d32",
   "metadata": {},
   "outputs": [
    {
     "data": {
      "text/plain": [
       "(450, 800, 3)"
      ]
     },
     "execution_count": 3,
     "metadata": {},
     "output_type": "execute_result"
    }
   ],
   "source": [
    "pic1.shape"
   ]
  },
  {
   "cell_type": "code",
   "execution_count": 4,
   "id": "a7092210",
   "metadata": {},
   "outputs": [
    {
     "data": {
      "text/plain": [
       "(450, 900, 3)"
      ]
     },
     "execution_count": 4,
     "metadata": {},
     "output_type": "execute_result"
    }
   ],
   "source": [
    "pic2.shape\n",
    "\n"
   ]
  },
  {
   "cell_type": "code",
   "execution_count": 5,
   "id": "691089b6",
   "metadata": {},
   "outputs": [],
   "source": [
    "#Swapping The image \n",
    "pic1[0:300,100:400],pic2[0:300,100:400]=pic2[0:300,100:400],pic1[0:300,100:400]"
   ]
  },
  {
   "cell_type": "code",
   "execution_count": 7,
   "id": "767df46b",
   "metadata": {},
   "outputs": [],
   "source": [
    "cv2.imshow(\"Ice Salad\",pic2)\n",
    "cv2.waitKey() \n",
    "cv2.destroyAllWindows() "
   ]
  },
  {
   "cell_type": "code",
   "execution_count": 8,
   "id": "450eabf4",
   "metadata": {},
   "outputs": [],
   "source": [
    "#Swapping\n",
    "pic2[100:300,100:400],pic1[100:300,100:400]=pic1[100:300,100:400],pic2[100:300,100:400]\n",
    "cv2.imshow(\"Ice Salad\",pic1)\n",
    "cv2.waitKey() \n",
    "cv2.destroyAllWindows() "
   ]
  },
  {
   "cell_type": "markdown",
   "id": "cef67984",
   "metadata": {},
   "source": [
    "# THANK YOU"
   ]
  }
 ],
 "metadata": {
  "kernelspec": {
   "display_name": "Python 3",
   "language": "python",
   "name": "python3"
  },
  "language_info": {
   "codemirror_mode": {
    "name": "ipython",
    "version": 3
   },
   "file_extension": ".py",
   "mimetype": "text/x-python",
   "name": "python",
   "nbconvert_exporter": "python",
   "pygments_lexer": "ipython3",
   "version": "3.8.8"
  }
 },
 "nbformat": 4,
 "nbformat_minor": 5
}
