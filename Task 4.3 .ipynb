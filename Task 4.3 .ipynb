{
 "cells": [
  {
   "cell_type": "markdown",
   "id": "95bb2e22",
   "metadata": {},
   "source": [
    "# Task 4.3 combining multiple image "
   ]
  },
  {
   "cell_type": "code",
   "execution_count": 1,
   "id": "9a0fb093",
   "metadata": {},
   "outputs": [],
   "source": [
    "import cv2\n",
    "import numpy as np"
   ]
  },
  {
   "cell_type": "code",
   "execution_count": 2,
   "id": "e874c3b9",
   "metadata": {},
   "outputs": [],
   "source": [
    "#uploaded the image \n",
    "pic1 = cv2.imread(\"1.jpg\")\n",
    "pic2 = cv2.imread(\"2.jpg\")\n",
    "pic3 = cv2.imread(\"3.jpg\")\n",
    "pic4 = cv2.imread(\"4.jpg\")\n"
   ]
  },
  {
   "cell_type": "code",
   "execution_count": 4,
   "id": "f4d27e0d",
   "metadata": {},
   "outputs": [],
   "source": [
    "#hstack for horizontal image collage\n",
    "combo1 = np.hstack((pic1, pic2, pic3, pic4))\n",
    "cv2.imshow(\"College horizontal\", combo1)\n",
    "cv2.waitKey()\n",
    "cv2.destroyAllWindows()"
   ]
  },
  {
   "cell_type": "code",
   "execution_count": 6,
   "id": "a385b8fe",
   "metadata": {},
   "outputs": [],
   "source": [
    "#vstack for vertical image collage\n",
    "combo1 = np.vstack((pic1, pic2, pic3, pic4))\n",
    "x = cv2.imshow(\"College Vertical\", combo1)\n",
    "cv2.waitKey()\n",
    "cv2.destroyAllWindows()"
   ]
  },
  {
   "cell_type": "markdown",
   "id": "408719ea",
   "metadata": {},
   "source": [
    "# THANK YOU"
   ]
  }
 ],
 "metadata": {
  "kernelspec": {
   "display_name": "Python 3",
   "language": "python",
   "name": "python3"
  },
  "language_info": {
   "codemirror_mode": {
    "name": "ipython",
    "version": 3
   },
   "file_extension": ".py",
   "mimetype": "text/x-python",
   "name": "python",
   "nbconvert_exporter": "python",
   "pygments_lexer": "ipython3",
   "version": "3.8.8"
  }
 },
 "nbformat": 4,
 "nbformat_minor": 5
}
